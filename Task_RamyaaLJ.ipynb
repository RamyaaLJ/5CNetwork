{
 "cells": [
  {
   "cell_type": "code",
   "execution_count": 12,
   "id": "7cbd1e63",
   "metadata": {},
   "outputs": [
    {
     "name": "stdout",
     "output_type": "stream",
     "text": [
      "Overall Gross Margin: 1207.1999999999998\n"
     ]
    }
   ],
   "source": [
    "import pandas as pd\n",
    "df = pd.read_csv('sales_data_1.csv')  # Replace 'sales_data_1.csv' with your actual file name\n",
    "\n",
    "overall_gross_margin = (df[\"Selling price\"] - df[\"Buying price\"]).sum()\n",
    "print(\"Overall Gross Margin:\",overall_gross_margin)"
   ]
  },
  {
   "cell_type": "code",
   "execution_count": 13,
   "id": "f80a6933",
   "metadata": {},
   "outputs": [
    {
     "name": "stdout",
     "output_type": "stream",
     "text": [
      "Maximum profitable Vendor in the given dataset is: Vendor7\n"
     ]
    }
   ],
   "source": [
    "#2\n",
    "vendor_profit = df.groupby(\"Firm bought from\")[\"Selling price\"].sum() - df.groupby(\"Firm bought from\")[\"Buying price\"].sum()\n",
    "max_profitable_vendor = vendor_profit.idxmax()\n",
    "print(\"Maximum profitable Vendor in the given dataset is: \",most_profitable_vendor)"
   ]
  },
  {
   "cell_type": "code",
   "execution_count": 14,
   "id": "c88b4d70",
   "metadata": {},
   "outputs": [
    {
     "name": "stdout",
     "output_type": "stream",
     "text": [
      "Minimum profitable customer in the given dataset is Customer9\n"
     ]
    }
   ],
   "source": [
    "#3\n",
    "profit_of_customer = df.groupby(\"Customer\")[\"Selling price\"].sum() - df.groupby(\"Customer\")[\"Buying price\"].sum()\n",
    "min_profitable_customer = profit_of_customer.idxmin()\n",
    "print(\"Minimum profitable customer in the given dataset is: \",min_profitable_customer)"
   ]
  },
  {
   "cell_type": "code",
   "execution_count": 16,
   "id": "1acd17a3",
   "metadata": {},
   "outputs": [
    {
     "name": "stdout",
     "output_type": "stream",
     "text": [
      "Most profitable day in the given datset is: Monday\n"
     ]
    }
   ],
   "source": [
    "#4\n",
    "df[\"Date\"] = pd.to_datetime(df[\"Date\"])\n",
    "df[\"Day of Week\"] = df[\"Date\"].dt.day_name()\n",
    "profit_day = df.groupby(\"Day of Week\")[\"Selling price\"].sum() - df.groupby(\"Day of Week\")[\"Buying price\"].sum()\n",
    "profitable_day = profit_day.idxmax()\n",
    "print(\"Most profitable day in the given datset is:\",profitable_day)"
   ]
  },
  {
   "cell_type": "code",
   "execution_count": 17,
   "id": "2c83b68c",
   "metadata": {},
   "outputs": [
    {
     "name": "stdout",
     "output_type": "stream",
     "text": [
      "Minimum profitable day in the given datset is: Thursday\n"
     ]
    }
   ],
   "source": [
    "#5\n",
    "profitable_day_min = day_profit.idxmin()\n",
    "print(\"Minimum profitable day in the given datset is:\",profitable_day_min)"
   ]
  },
  {
   "cell_type": "code",
   "execution_count": 23,
   "id": "bc79b89c",
   "metadata": {},
   "outputs": [
    {
     "name": "stdout",
     "output_type": "stream",
     "text": [
      "        Date Firm bought from  Buying price  Quantity bought   Customer  \\\n",
      "0 2023-08-21          Vendor6         72.11               60  Customer7   \n",
      "1 2023-08-21          Vendor4         75.08               92  Customer7   \n",
      "2 2023-08-21          Vendor7         83.93               16  Customer2   \n",
      "3 2023-08-21          Vendor7         52.01               62  Customer3   \n",
      "4 2023-08-21          Vendor2         98.91                1  Customer5   \n",
      "\n",
      "   Selling price  Quantity sold  Daily Gross Profit  3-Day Avg Gross Profit  \n",
      "0          91.58             44               19.47                     NaN  \n",
      "1          83.71             17                8.63                     NaN  \n",
      "2         103.76             15               19.83               15.976667  \n",
      "3          64.53              7               12.52               13.660000  \n",
      "4         140.92              1               42.01               24.786667  \n"
     ]
    }
   ],
   "source": [
    "#2ND DATASET\n",
    "df = pd.read_csv(\"sales_data_2.csv\")\n",
    "df['Date'] = pd.to_datetime(df['Date'])\n",
    "df['Daily Gross Profit'] = df['Selling price'] - df['Buying price']\n",
    "df['3-Day Avg Gross Profit'] = df['Daily Gross Profit'].rolling(window=3).mean()\n",
    "print(df.head())"
   ]
  },
  {
   "cell_type": "code",
   "execution_count": 21,
   "id": "2c0f6164",
   "metadata": {},
   "outputs": [
    {
     "name": "stdout",
     "output_type": "stream",
     "text": [
      "\n",
      "Percentiles for Buying and Selling Prices:\n",
      "25th Percentile:\n",
      "Buying price     29.900\n",
      "Selling price    38.975\n",
      "Name: 0.25, dtype: float64\n",
      "\n",
      "Median (50th Percentile):\n",
      "Buying price     60.76\n",
      "Selling price    78.99\n",
      "Name: 0.5, dtype: float64\n",
      "\n",
      "75th Percentile:\n",
      "Buying price      78.3200\n",
      "Selling price    103.3975\n",
      "Name: 0.75, dtype: float64\n"
     ]
    }
   ],
   "source": [
    "percentile = df[['Buying price', 'Selling price']].quantile([0.25, 0.5, 0.75])\n",
    "print(\"\\nPercentiles for Buying and Selling Prices:\")\n",
    "print(\"25th Percentile:\")\n",
    "print(percentile.loc[0.25])\n",
    "print(\"\\nMedian (50th Percentile):\")\n",
    "print(percentile.loc[0.5])\n",
    "print(\"\\n75th Percentile:\")\n",
    "print(percentile.loc[0.75])\n"
   ]
  },
  {
   "cell_type": "code",
   "execution_count": 22,
   "id": "b5e734b2",
   "metadata": {},
   "outputs": [
    {
     "name": "stdout",
     "output_type": "stream",
     "text": [
      "\n",
      "Frequency of Prices Below 25th Percentile: 18\n",
      "\n",
      "Frequency of Prices Above 75th Percentile: 18\n"
     ]
    }
   ],
   "source": [
    "# 5\n",
    "below25 = df[df['Selling price'] < percentiles.loc[0.25]['Selling price']]\n",
    "above75 = df[df['Selling price'] > percentiles.loc[0.75]['Selling price']]\n",
    "\n",
    "print(\"\\nFrequency of Prices Below 25th Percentile:\",len(below25))\n",
    "print(\"\\nFrequency of Prices Above 75th Percentile:\",len(above75))\n"
   ]
  },
  {
   "cell_type": "code",
   "execution_count": null,
   "id": "ea7ad551",
   "metadata": {},
   "outputs": [],
   "source": []
  }
 ],
 "metadata": {
  "kernelspec": {
   "display_name": "Python 3 (ipykernel)",
   "language": "python",
   "name": "python3"
  },
  "language_info": {
   "codemirror_mode": {
    "name": "ipython",
    "version": 3
   },
   "file_extension": ".py",
   "mimetype": "text/x-python",
   "name": "python",
   "nbconvert_exporter": "python",
   "pygments_lexer": "ipython3",
   "version": "3.11.3"
  }
 },
 "nbformat": 4,
 "nbformat_minor": 5
}
